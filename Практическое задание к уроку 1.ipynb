{
 "cells": [
  {
   "cell_type": "markdown",
   "id": "f025a6da",
   "metadata": {},
   "source": [
    "# Методы сбора и обработки данных из сети Интернет\n",
    "## Урок 1. Основы клиент-серверного взаимодействия. Работа с API\n",
    "\n",
    "1. Посмотреть документацию к API GitHub, разобраться как вывести список репозиториев для конкретного пользователя, сохранить JSON-вывод в файле *.json.\n"
   ]
  },
  {
   "cell_type": "markdown",
   "id": "35e2c099",
   "metadata": {},
   "source": [
    "\n",
    "Ссылка на документацию: [List repositories for a user](https://docs.github.com/en/rest/repos/repos#list-repositories-for-a-user)"
   ]
  },
  {
   "cell_type": "code",
   "execution_count": 104,
   "id": "a78b12e8",
   "metadata": {},
   "outputs": [
    {
     "name": "stdout",
     "output_type": "stream",
     "text": [
      "Список репозиториев для пользователя Lauarvik\n",
      "python : Основы языка Python\n",
      "python_data_science : Библиотеки Python для Data Science\n",
      "python_scraping : Методы сбора и обработки данных из сети Интернет\n"
     ]
    }
   ],
   "source": [
    "import requests\n",
    "\n",
    "username = 'Lauarvik' #это я \n",
    "url = f'https://api.github.com/users/{username}/repos'\n",
    "response = requests.get(url)\n",
    "if response.status_code == 200:\n",
    "    j_data = response.json()\n",
    "    print(f'Список репозиториев для пользователя {username}')\n",
    "    for i in j_data:\n",
    "        print(i['name'],':', i['description'])\n",
    "    with open(f'{username}_repos.json', 'w', encoding='utf-8') as f:\n",
    "        f.write(str(j_data))\n",
    "        "
   ]
  },
  {
   "cell_type": "markdown",
   "id": "63eda4fe",
   "metadata": {},
   "source": [
    "2. Работа будет состоять с недокументированным API. Нужно ввести релевантный запрос на сайте https://www.delivery-club.ru/search\n",
    "\n",
    "(а) из предложенных точек с помощью API найти долю (в %) с бесплатной и платной доставкой. Для каждой категории рассчитать среднюю минимальную стоимость заказа.\n",
    "\n",
    "(б) для каждой из категорий из пункта (а) рассчитать долю (в %) магазинов и ресторанов"
   ]
  },
  {
   "cell_type": "code",
   "execution_count": 105,
   "id": "5a01ca77",
   "metadata": {},
   "outputs": [],
   "source": [
    "from time import time\n",
    "import pandas as pd\n",
    "import requests\n",
    "\n",
    "query = 'суши'\n",
    "\n",
    "params = {\n",
    "    'latitude': 55.7577374,\n",
    "    'longitude': 37.6164793,\n",
    "    'query': query,\n",
    "    'cacheBreaker': int(time()),\n",
    "\n",
    "}\n",
    "url = 'https://api.delivery-club.ru/api1.2/vendors/search'\n",
    "response = requests.get(url, params=params)\n",
    "if response.status_code == 200:\n",
    "    j_data = response.json()\n",
    "    df = pd.json_normalize(j_data['vendors'])"
   ]
  },
  {
   "cell_type": "code",
   "execution_count": 106,
   "id": "1ad078b4",
   "metadata": {},
   "outputs": [
    {
     "name": "stdout",
     "output_type": "stream",
     "text": [
      "Заведений с платной доставкой: 66%\n",
      "Заведений с бесплатной доставкой: 34%\n"
     ]
    }
   ],
   "source": [
    "paid_delivery = df[df['delivery.price.value'] > 0]\n",
    "free_delivery = df[df['delivery.price.value'] == 0]\n",
    "print('Заведений с платной доставкой: {:.0%}'.format(len(paid_delivery) / (len(paid_delivery) + len(free_delivery))))\n",
    "print('Заведений с бесплатной доставкой: {:.0%}'.format(len(free_delivery) / (len(paid_delivery) + len(free_delivery))))"
   ]
  },
  {
   "cell_type": "code",
   "execution_count": 107,
   "id": "46f88d09",
   "metadata": {},
   "outputs": [
    {
     "data": {
      "text/plain": [
       "84.17391304347827"
      ]
     },
     "execution_count": 107,
     "metadata": {},
     "output_type": "execute_result"
    }
   ],
   "source": [
    "#средняя минимальная стоимость заказа для категории \"платная доставка\"\n",
    "paid_delivery['delivery.minOrderPrice.value'].mean()"
   ]
  },
  {
   "cell_type": "code",
   "execution_count": 108,
   "id": "e4991532",
   "metadata": {},
   "outputs": [
    {
     "data": {
      "text/plain": [
       "1262.0"
      ]
     },
     "execution_count": 108,
     "metadata": {},
     "output_type": "execute_result"
    }
   ],
   "source": [
    "#средняя минимальная стоимость заказа для категории \"бесплатная доставка\"\n",
    "free_delivery['delivery.minOrderPrice.value'].mean()"
   ]
  },
  {
   "cell_type": "code",
   "execution_count": 109,
   "id": "8d839838",
   "metadata": {},
   "outputs": [
    {
     "name": "stdout",
     "output_type": "stream",
     "text": [
      "Магазинов с платной доставкой: 2%\n",
      "Ресторанов с платной доставкой: 98%\n",
      "Магазинов с бесплатной доставкой: 0%\n",
      "Ресторанов с бесплатной доставкой: 100%\n"
     ]
    }
   ],
   "source": [
    "paid_delivery_shops = paid_delivery[paid_delivery['categoryId'] == 3]\n",
    "paid_delivery_restaurants = paid_delivery[paid_delivery['categoryId'] == 1]\n",
    "free_delivery_shops = free_delivery[free_delivery['categoryId'] == 3]\n",
    "free_delivery_restaurants = free_delivery[free_delivery['categoryId'] == 1]\n",
    "print('Магазинов с платной доставкой: {:.0%}'.format(len(paid_delivery_shops) / (len(paid_delivery_shops) + len(paid_delivery_restaurants))))\n",
    "print('Ресторанов с платной доставкой: {:.0%}'.format(len(paid_delivery_restaurants) / (len(paid_delivery_shops) + len(paid_delivery_restaurants))))\n",
    "print('Магазинов с бесплатной доставкой: {:.0%}'.format(len(free_delivery_shops) / (len(free_delivery_shops) + len(free_delivery_restaurants))))\n",
    "print('Ресторанов с бесплатной доставкой: {:.0%}'.format(len(free_delivery_restaurants) / (len(free_delivery_shops) + len(free_delivery_restaurants))))\n"
   ]
  }
 ],
 "metadata": {
  "kernelspec": {
   "display_name": "Python 3 (ipykernel)",
   "language": "python",
   "name": "python3"
  },
  "language_info": {
   "codemirror_mode": {
    "name": "ipython",
    "version": 3
   },
   "file_extension": ".py",
   "mimetype": "text/x-python",
   "name": "python",
   "nbconvert_exporter": "python",
   "pygments_lexer": "ipython3",
   "version": "3.9.12"
  }
 },
 "nbformat": 4,
 "nbformat_minor": 5
}
